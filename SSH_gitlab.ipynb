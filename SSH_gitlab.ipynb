{
 "cells": [
  {
   "cell_type": "markdown",
   "id": "e141f30b-0887-42d6-a7e3-5345be871a1b",
   "metadata": {},
   "source": [
    "#  Получение SSH токена для gitlab.com. И его подключение\n",
    "\n",
    "##### ✨ Открыть CMD и вписать команду '*ssh-keygen*'\n",
    "    \n",
    "После этого запустится процесс генерации. \n",
    "В первую очередь пользователю будет предложено ввести **путь к папке**, в которой будут храниться **ключи**. Чтобы оставить вариант по умолчанию (.../.ssh/id_rsa), предложенный системой, нужно нажать клавишу «Enter».\n",
    "    \n",
    "Далее пользователю будет предложено ввести ключевое слово к ключу (**пароль**). \n",
    "Чтобы пропустить этот шаг, нажмите также клавишу «Enter» 2 раза.\n",
    "\n",
    "##### ✨ Открыть gitlab / setting / SSH Keys\n",
    "\n",
    "Либо просто перейти по **ссылке**)))) *https://gitlab.com/-/user_settings/ssh_keys*"
   ]
  },
  {
   "cell_type": "code",
   "execution_count": null,
   "id": "1f29e1a9-e165-4724-b890-6b25ed4974aa",
   "metadata": {},
   "outputs": [],
   "source": []
  },
  {
   "cell_type": "code",
   "execution_count": null,
   "id": "33ed8259-f784-4b85-bb2c-05bf4758aa0f",
   "metadata": {},
   "outputs": [],
   "source": []
  }
 ],
 "metadata": {
  "kernelspec": {
   "display_name": "",
   "name": ""
  },
  "language_info": {
   "name": ""
  }
 },
 "nbformat": 4,
 "nbformat_minor": 5
}
